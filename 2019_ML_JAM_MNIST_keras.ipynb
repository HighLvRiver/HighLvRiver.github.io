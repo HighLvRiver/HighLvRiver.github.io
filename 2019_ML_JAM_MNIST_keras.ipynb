{
  "nbformat": 4,
  "nbformat_minor": 0,
  "metadata": {
    "colab": {
      "name": "2019_ML_JAM_MNIST_keras.ipynb",
      "version": "0.3.2",
      "provenance": [],
      "collapsed_sections": [],
      "include_colab_link": true
    },
    "kernelspec": {
      "name": "python3",
      "display_name": "Python 3"
    }
  },
  "cells": [
    {
      "cell_type": "markdown",
      "metadata": {
        "id": "view-in-github",
        "colab_type": "text"
      },
      "source": [
        "<a href=\"https://colab.research.google.com/github/HighLvRiver/HighLvRiver.github.io/blob/master/2019_ML_JAM_MNIST_keras.ipynb\" target=\"_parent\"><img src=\"https://colab.research.google.com/assets/colab-badge.svg\" alt=\"Open In Colab\"/></a>"
      ]
    },
    {
      "metadata": {
        "id": "OeDa3-FircaM",
        "colab_type": "code",
        "colab": {}
      },
      "cell_type": "code",
      "source": [
        "import numpy as np\n",
        "from keras import layers, models, datasets\n",
        "from keras.utils import np_utils\n",
        "import matplotlib.pyplot as plt\n",
        " \n",
        "def ANN_models_func(nIn, nHidden, nOut):\n",
        "    x = layers.Input(shape=(nIn,))\n",
        "    h = layers.Activation('relu')(layers.Dense(nHidden)(x))\n",
        "    y = layers.Activation('softmax')(layers.Dense(nOut)(h))\n",
        " \n",
        "    model = models.Model(x, y)\n",
        "    model.compile(loss='categorical_crossentropy',\n",
        "        optimizer='adam', metrics=['accuracy'])\n",
        " \n",
        "    return model\n",
        " \n",
        "def Data_func():\n",
        "    (x_train, y_train), (x_test, y_test) = datasets.mnist.load_data()\n",
        " \n",
        "    y_train = np_utils.to_categorical(y_train)\n",
        "    y_test = np_utils.to_categorical(y_test)\n",
        " \n",
        "    L, W, H = x_train.shape\n",
        "    x_train = x_train.reshape(-1, W * H)\n",
        "    x_test = x_test.reshape(-1, W * H)\n",
        " \n",
        "    x_train = x_train / 255.0\n",
        "    x_test = x_test / 255.0\n",
        " \n",
        "    return (x_train, y_train), (x_test, y_test)\n",
        " \n",
        "def plot_loss(history):\n",
        "    plt.plot(history.history['loss'])\n",
        "    plt.plot(history.history['val_loss'])\n",
        "    plt.title('Model Loss')\n",
        "    plt.ylabel('Loss')\n",
        "    plt.xlabel('Epoch')\n",
        "    plt.legend(['Train', 'Test'], loc=0)\n",
        " \n",
        "def plot_acc(history):\n",
        "    plt.plot(history.history['acc'])\n",
        "    plt.plot(history.history['val_acc'])\n",
        "    plt.title('Model accuracy')\n",
        "    plt.ylabel('Accuracy')\n",
        "    plt.xlabel('Epoch')\n",
        "    plt.legend(['Train', 'Test'], loc=0)\n",
        " \n",
        "def main():\n",
        "    nIn = 784\n",
        "    nHidden = 100\n",
        "    nClass = 10\n",
        "    nOut = nClass\n",
        " \n",
        "    model = ANN_models_func(nIn, nHidden, nOut)\n",
        "    (x_train, y_train), (x_test, y_test) = Data_func()\n",
        " \n",
        "    history = model.fit(x_train, y_train, epochs=15,\n",
        "        batch_size=100, validation_split=0.2)\n",
        "    performance_test = model.evaluate(x_test, y_test, batch_size=100)\n",
        "    print('Test Loss and Accuracy ->', performance_test)\n",
        " \n",
        "    plot_loss(history)\n",
        "    plt.show()\n",
        "    plot_acc(history)\n",
        "    plt.show()\n",
        "    \n",
        "    predict = model.predict(x_test)\n",
        "    \n",
        "    return predict\n",
        " \n",
        "if __name__ == '__main__':\n",
        "    predict = main()\n"
      ],
      "execution_count": 0,
      "outputs": []
    },
    {
      "metadata": {
        "id": "eLGsRUdKri2k",
        "colab_type": "code",
        "colab": {}
      },
      "cell_type": "code",
      "source": [
        "np.argmax(predict[9975])"
      ],
      "execution_count": 0,
      "outputs": []
    },
    {
      "metadata": {
        "id": "WaPo-FJjrt7O",
        "colab_type": "code",
        "colab": {}
      },
      "cell_type": "code",
      "source": [
        ""
      ],
      "execution_count": 0,
      "outputs": []
    }
  ]
}